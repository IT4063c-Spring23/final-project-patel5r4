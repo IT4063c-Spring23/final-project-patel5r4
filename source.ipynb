{
 "cells": [
  {
   "attachments": {},
   "cell_type": "markdown",
   "metadata": {},
   "source": [
    "# Is there a link between stress and high blood pressure levels?📝\n",
    "\n",
    "![Banner](./assets/banner.jpeg)"
   ]
  },
  {
   "attachments": {},
   "cell_type": "markdown",
   "metadata": {},
   "source": [
    "## Topic\n",
    "*What problem are you (or your stakeholder) trying to address?*\n",
    "📝 <!-- Answer Below -->\n",
    "\n",
    "Excessive stress negatively impacts health and might lead to anxiety and depression, and can also lead to cardiovascular diseases. The American Psychological Association (APA), reports that Millenials and Gen X experience high-than-average stress levels. Can hypertension or stress increase blood pressure?  "
   ]
  },
  {
   "attachments": {},
   "cell_type": "markdown",
   "metadata": {},
   "source": [
    "## Project Question\n",
    "*What specific question are you seeking to answer with this project?*\n",
    "*This is not the same as the questions you ask to limit the scope of the project.*\n",
    "📝 <!-- Answer Below -->\n",
    "\n",
    "My specific question is if there is a connection between stress-levels and experiencing high blood pressure."
   ]
  },
  {
   "attachments": {},
   "cell_type": "markdown",
   "metadata": {},
   "source": [
    "## What would an answer look like?\n",
    "*What is your hypothesized answer to your question?*\n",
    "📝 <!-- Answer Below -->\n",
    "\n",
    "A hypothesized answer will be - excessive stress impacts blood pressure levels in human beings. "
   ]
  },
  {
   "attachments": {},
   "cell_type": "markdown",
   "metadata": {},
   "source": [
    "## Data Sources\n",
    "*What 3 data sources have you identified for this project?*\n",
    "*How are you going to relate these datasets?*\n",
    "📝 <!-- Answer Below -->\n",
    "\n",
    "1. CSV file from data.world - This is data from Teen Stress & Mental Health Poll, where users are asked how much of a role stress plays in their lives, and how they manage it. \n",
    "\n",
    "Questions asked:\n",
    "\n",
    "How often are you stressed?\n",
    "\n",
    "What stresses you out the most?\n",
    "\n",
    "What are you most likely to do with you're stressed?\n",
    "\n",
    "What resources do you use to help?\n",
    "\n",
    "\n",
    "Results:\n",
    "\n",
    "16,101 (44.88%) teens say they are stressed \"all the time\"\n",
    "\n",
    "Only 6.3% of teams (2,261) state that they are \"never\" stressed\n",
    "\n",
    "Relationships were the most likely cause of stress at 27.22%\n",
    "\n",
    "\n",
    "Data:\n",
    "\n",
    "    import pandas as pd\n",
    "df = pd.read_csv('https://query.data.world/s/4dgpmb77g3amqv5tigoisytzbh67hu') or https://query.data.world/s/4dgpmb77g3amqv5tigoisytzbh67hu (download link)\n",
    "\n",
    "2. Infographic on Stress and its impact on ability to function, by the APA \n",
    "\n",
    "Link: https://www.apa.org/news/press/releases/stress/2022/infographics/infographic-ability-function\n",
    "\n",
    "3. Infographic on Younger adults feeling completely overwhelmed by stress\n",
    "\n",
    "Link: https://www.apa.org/news/press/releases/stress/2022/infographics/infographic-younger-adults\n",
    "\n",
    "4. Data Visualization on high blood pressure across countries; aged 50 and over; 2007-2010 by census.gov\n",
    "\n",
    "Link: https://www.census.gov/content/dam/Census/newsroom/blogs/2012/05/high-blood-pressure-not-just-an-american-problem/SAGE-figure.jpg\n",
    "\n"
   ]
  },
  {
   "attachments": {},
   "cell_type": "markdown",
   "metadata": {},
   "source": [
    "## Approach and Analysis\n",
    "*What is your approach to answering your project question?*\n",
    "*How will you use the identified data to answer your project question?*\n",
    "📝 <!-- Start Discussing the project here; you can add as many code cells as you need -->\n",
    "\n",
    "The first data source shares the number of people from the survey who are stressed \"all the time\", this can be used to show the increasing levels of stress in today's generation.\n",
    "\n",
    "The next two data sources (infographics) can be used to show that stress impacts the ability to function and that younger adults feel completely overwhelmed by stress, by age groups. Further, this can be used to match data on high pressure levels by age group, and find any links between stress and blood pressure levels. \n",
    "\n",
    "The fourth data source has visualization on hypertension being one of the top three chronic conditions by age group across countries. Hypertension tops the list, again that can be matched with stress levels in those countries to find links between stress and blood pressure levels. \n"
   ]
  },
  {
   "cell_type": "code",
   "execution_count": 1,
   "metadata": {},
   "outputs": [],
   "source": [
    "# Start your code here "
   ]
  },
  {
   "attachments": {},
   "cell_type": "markdown",
   "metadata": {},
   "source": [
    "## Resources and References\n",
    "*What resources and references have you used for this project?*\n",
    "📝 <!-- Answer Below -->\n",
    "\n",
    "1. Data.world\n",
    "\n",
    "2. American Psychological Association\n",
    "\n",
    "3. Census.gov"
   ]
  },
  {
   "cell_type": "code",
   "execution_count": 1,
   "metadata": {},
   "outputs": [
    {
     "name": "stderr",
     "output_type": "stream",
     "text": [
      "[NbConvertApp] Converting notebook source.ipynb to python\n",
      "[NbConvertApp] Writing 4113 bytes to source.py\n"
     ]
    }
   ],
   "source": [
    "# ⚠️ Make sure you run this cell at the end of your notebook before every submission!\n",
    "!jupyter nbconvert --to python source.ipynb"
   ]
  }
 ],
 "metadata": {
  "kernelspec": {
   "display_name": "final-project-patel5r4-oIOlLhYG",
   "language": "python",
   "name": "python3"
  },
  "language_info": {
   "codemirror_mode": {
    "name": "ipython",
    "version": 3
   },
   "file_extension": ".py",
   "mimetype": "text/x-python",
   "name": "python",
   "nbconvert_exporter": "python",
   "pygments_lexer": "ipython3",
   "version": "3.11.1"
  },
  "orig_nbformat": 4,
  "vscode": {
   "interpreter": {
    "hash": "3e31b69fb93e14e3931686132c96ad81ebad9710b287252d2cce78ade45e38f2"
   }
  }
 },
 "nbformat": 4,
 "nbformat_minor": 2
}
