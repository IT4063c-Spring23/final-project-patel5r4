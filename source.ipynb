{
 "cells": [
  {
   "attachments": {},
   "cell_type": "markdown",
   "metadata": {},
   "source": [
    "# Does the vehicle type affect the chances of rollover and injury?📝\n",
    "\n",
    "<!-- Are SUV rollover rates declining? -->\n",
    "\n",
    "![Banner](./assets/banner.jpeg)"
   ]
  },
  {
   "attachments": {},
   "cell_type": "markdown",
   "metadata": {},
   "source": [
    "## Topic\n",
    "*What problem are you (or your stakeholder) trying to address?*\n",
    "📝 <!-- Answer Below -->\n",
    "\n",
    "I think the bigger the vehicle, the safer it is on the road. However, bigger vehicle like SUVs and trucks are believed to be more likely to rollover than passenger cars. But that may not necessarily mean that the accidents will always be fatal. Some data even says that the rollover rates for SUVs are declining (article: https://www.ncbi.nlm.nih.gov/pmc/articles/PMC3217479/). \n",
    "\n",
    "   "
   ]
  },
  {
   "attachments": {},
   "cell_type": "markdown",
   "metadata": {},
   "source": [
    "## Project Question\n",
    "*What specific question are you seeking to answer with this project?*\n",
    "*This is not the same as the questions you ask to limit the scope of the project.*\n",
    "📝 <!-- Answer Below -->\n",
    "\n",
    "Although certain road and traffic conditions increase the likelihood of fatal accidents, does it matter what type of vehicle are we driving? Are there more rollover chances for SUVs than cars?"
   ]
  },
  {
   "attachments": {},
   "cell_type": "markdown",
   "metadata": {},
   "source": [
    "## What would an answer look like?\n",
    "*What is your hypothesized answer to your question?*\n",
    "📝 <!-- Answer Below -->\n",
    "\n",
    "A hypothesized answer will be - SUVs are more likely to rollover due to their design (they are generally taller and narrower), but the rates are declining and the accidents are not always fatal.   "
   ]
  },
  {
   "attachments": {},
   "cell_type": "markdown",
   "metadata": {},
   "source": [
    "## Data Sources\n",
    "*What 3 data sources have you identified for this project?*\n",
    "*How are you going to relate these datasets?*\n",
    "📝 <!-- Answer Below -->\n",
    "\n",
    "1. https://www.iihs.org/topics/fatality-statistics/detail/passenger-vehicle-occupants?_gl=1*1t3lna3*_ga*YW1wLU5uWExTOC00UnpJamxTZ2M5RlNOUEE.#fn1ref1 \n",
    "\n",
    "This webpage has multiple data tables on death and rollover rates by vehicle type. \n",
    "\n",
    "2. https://crashstats.nhtsa.dot.gov/Api/Public/ViewPublication/809438 \n",
    "\n",
    "This documnent has data tables that show the number of rollovers by vehicle type.\n",
    "\n",
    "3. https://www.kaggle.com/datasets/usdot/nhtsa-traffic-fatalities?select=vehicle_2016 \n",
    "\n",
    "This dataset is from Kaggle - it has traffic fatality records.  \n",
    "\n"
   ]
  },
  {
   "attachments": {},
   "cell_type": "markdown",
   "metadata": {},
   "source": [
    "## Approach and Analysis\n",
    "*What is your approach to answering your project question?*\n",
    "*How will you use the identified data to answer your project question?*\n",
    "📝 <!-- Start Discussing the project here; you can add as many code cells as you need -->\n",
    "\n",
    "These sources have data about crashes, deaths and rollovers. These can be merged together - for example, total crashes and rollover by vehicle type will show what type of vehicle is most likely to rollover and if the SUV rollover rates are really declining. \n"
   ]
  },
  {
   "cell_type": "code",
   "execution_count": 1,
   "metadata": {},
   "outputs": [],
   "source": [
    "# Start your code here "
   ]
  },
  {
   "attachments": {},
   "cell_type": "markdown",
   "metadata": {},
   "source": [
    "## Resources and References\n",
    "*What resources and references have you used for this project?*\n",
    "📝 <!-- Answer Below -->\n",
    "\n",
    "1. National Highway Traffic Safety Administration (NHTSA)\n",
    "\n",
    "2. Kaggle \n",
    "\n",
    "3. Insurance Institute for Highway Safety (IIHS)"
   ]
  },
  {
   "cell_type": "code",
   "execution_count": 1,
   "metadata": {},
   "outputs": [
    {
     "name": "stderr",
     "output_type": "stream",
     "text": [
      "[NbConvertApp] Converting notebook source.ipynb to python\n",
      "[NbConvertApp] Writing 4113 bytes to source.py\n"
     ]
    }
   ],
   "source": [
    "# ⚠️ Make sure you run this cell at the end of your notebook before every submission!\n",
    "!jupyter nbconvert --to python source.ipynb"
   ]
  }
 ],
 "metadata": {
  "kernelspec": {
   "display_name": "final-project-patel5r4-oIOlLhYG",
   "language": "python",
   "name": "python3"
  },
  "language_info": {
   "codemirror_mode": {
    "name": "ipython",
    "version": 3
   },
   "file_extension": ".py",
   "mimetype": "text/x-python",
   "name": "python",
   "nbconvert_exporter": "python",
   "pygments_lexer": "ipython3",
   "version": "3.11.1"
  },
  "orig_nbformat": 4,
  "vscode": {
   "interpreter": {
    "hash": "3e31b69fb93e14e3931686132c96ad81ebad9710b287252d2cce78ade45e38f2"
   }
  }
 },
 "nbformat": 4,
 "nbformat_minor": 2
}
